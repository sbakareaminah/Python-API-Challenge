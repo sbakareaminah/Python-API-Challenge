{
 "cells": [
  {
   "cell_type": "markdown",
   "metadata": {},
   "source": [
    "# WeatherPy\n",
    "----\n",
    "\n",
    "#### Note\n",
    "* Instructions have been included for each segment. You do not have to follow them exactly, but they are included to help you think through the steps."
   ]
  },
  {
   "cell_type": "code",
   "execution_count": 62,
   "metadata": {
    "scrolled": true
   },
   "outputs": [],
   "source": [
    "# Dependencies and Setup\n",
    "import matplotlib.pyplot as plt\n",
    "import pandas as pd\n",
    "import numpy as np\n",
    "import requests\n",
    "import time\n",
    "import json\n",
    "from scipy.stats import linregress\n",
    "\n",
    "# Import API key\n",
    "from api_keys import weather_api_key\n",
    "\n",
    "# Incorporated citipy to determine city based on latitude and longitude\n",
    "from citipy import citipy\n",
    "\n",
    "# Output File (CSV)\n",
    "output_data_file = \"output_data/cities.csv\"\n",
    "\n",
    "# Range of latitudes and longitudes\n",
    "lat_range = (-90, 90)\n",
    "lng_range = (-180, 180)\n"
   ]
  },
  {
   "cell_type": "markdown",
   "metadata": {},
   "source": [
    "## Generate Cities List"
   ]
  },
  {
   "cell_type": "code",
   "execution_count": 63,
   "metadata": {},
   "outputs": [
    {
     "data": {
      "text/plain": [
       "624"
      ]
     },
     "execution_count": 63,
     "metadata": {},
     "output_type": "execute_result"
    }
   ],
   "source": [
    "# List for holding lat_lngs and cities\n",
    "lat_lngs = []\n",
    "cities = []\n",
    "\n",
    "# Create a set of random lat and lng combinations\n",
    "lats = np.random.uniform(lat_range[0], lat_range[1], size=1500)\n",
    "lngs = np.random.uniform(lng_range[0], lng_range[1], size=1500)\n",
    "lat_lngs = zip(lats, lngs)\n",
    "\n",
    "# Identify nearest city for each lat, lng combination\n",
    "for lat_lng in lat_lngs:\n",
    "    city = citipy.nearest_city(lat_lng[0], lat_lng[1]).city_name\n",
    "    \n",
    "    # If the city is unique, then add it to a our cities list\n",
    "    if city not in cities:\n",
    "        cities.append(city)\n",
    "\n",
    "# Print the city count to confirm sufficient count\n",
    "len(cities)"
   ]
  },
  {
   "cell_type": "markdown",
   "metadata": {},
   "source": [
    " Perform API Calls\n",
    "* Perform a weather check on each city using a series of successive API calls.\n",
    "* Include a print log of each city as it'sbeing processed (with the city number and city name).\n"
   ]
  },
  {
   "cell_type": "code",
   "execution_count": 4,
   "metadata": {},
   "outputs": [],
   "source": [
    "city_name_list = []\n",
    "cloudiness_list = []\n",
    "country_list = []\n",
    "date_list = []\n",
    "humidity_list = []\n",
    "lat_list = []\n",
    "lng_list = []\n",
    "max_temp_list = []\n",
    "wind_speed_list = []\n",
    "index_counter = 0\n",
    "set_counter = 1"
   ]
  },
  {
   "cell_type": "code",
   "execution_count": 5,
   "metadata": {},
   "outputs": [
    {
     "name": "stdout",
     "output_type": "stream",
     "text": [
      "Beginning Data Retrieval \n",
      "-----------------------------\n",
      "Processing Record 1 of Set 1 : ribeira grande\n",
      "Processing Record 2 of Set 1 : pevek\n",
      "Processing Record 3 of Set 1 : luis correia\n",
      "Processing Record 4 of Set 1 : carutapera\n",
      "Processing Record 5 of Set 1 : dakoro\n",
      "Processing Record 6 of Set 1 : waitati\n",
      "Processing Record 7 of Set 1 : cabo san lucas\n",
      "Processing Record 8 of Set 1 : bengkulu\n",
      "Processing Record 9 of Set 1 : tuktoyaktuk\n",
      "Processing Record 10 of Set 1 : longyearbyen\n",
      "Processing Record 11 of Set 1 : castro\n",
      "Processing Record 12 of Set 1 : morococha\n",
      "Processing Record 13 of Set 1 : nabire\n",
      "Processing Record 14 of Set 1 : balaipungut\n",
      "Processing Record 15 of Set 1 : vila velha\n",
      "Processing Record 16 of Set 1 : hermanus\n",
      "Processing Record 17 of Set 1 : belle fourche\n",
      "Processing Record 18 of Set 1 : atuona\n",
      "Processing Record 19 of Set 1 : bluff\n",
      "Processing Record 20 of Set 1 : hilo\n",
      "Processing Record 21 of Set 1 : port alfred\n",
      "City not found. Skipping...\n",
      "Processing Record 22 of Set 1 : mar del plata\n",
      "Processing Record 23 of Set 1 : bethel\n",
      "Processing Record 24 of Set 1 : khatanga\n",
      "Processing Record 25 of Set 1 : olafsvik\n",
      "Processing Record 26 of Set 1 : weyburn\n",
      "Processing Record 27 of Set 1 : praia da vitoria\n",
      "City not found. Skipping...\n",
      "Processing Record 28 of Set 1 : porto novo\n",
      "Processing Record 29 of Set 1 : najran\n",
      "City not found. Skipping...\n",
      "Processing Record 30 of Set 1 : ngunguru\n",
      "Processing Record 31 of Set 1 : rikitea\n",
      "Processing Record 32 of Set 1 : sakaiminato\n",
      "Processing Record 33 of Set 1 : barrow\n",
      "Processing Record 34 of Set 1 : albany\n",
      "Processing Record 35 of Set 1 : new norfolk\n",
      "Processing Record 36 of Set 1 : camana\n",
      "Processing Record 37 of Set 1 : grand island\n",
      "Processing Record 38 of Set 1 : balgazyn\n",
      "Processing Record 39 of Set 1 : petropavlovsk-kamchatskiy\n",
      "Processing Record 40 of Set 1 : wormeldange\n",
      "Processing Record 41 of Set 1 : misawa\n",
      "City not found. Skipping...\n",
      "Processing Record 42 of Set 1 : waiouru\n",
      "Processing Record 43 of Set 1 : hami\n",
      "Processing Record 44 of Set 1 : marsh harbour\n",
      "Processing Record 45 of Set 1 : bourail\n",
      "Processing Record 46 of Set 1 : punta arenas\n",
      "Processing Record 47 of Set 1 : misratah\n",
      "Processing Record 48 of Set 1 : kahului\n",
      "Processing Record 49 of Set 1 : ancud\n",
      "Processing Record 50 of Set 1 : rantepao\n",
      "Processing Record 0 of Set 2 : qaanaaq\n",
      "Processing Record 1 of Set 2 : butaritari\n",
      "Processing Record 2 of Set 2 : port blair\n",
      "Processing Record 3 of Set 2 : mataura\n",
      "Processing Record 4 of Set 2 : tura\n",
      "Processing Record 5 of Set 2 : saint george\n",
      "Processing Record 6 of Set 2 : half moon bay\n",
      "City not found. Skipping...\n",
      "Processing Record 7 of Set 2 : isla mujeres\n",
      "Processing Record 8 of Set 2 : faanui\n",
      "Processing Record 9 of Set 2 : sao joao da barra\n",
      "Processing Record 10 of Set 2 : vaini\n",
      "Processing Record 11 of Set 2 : east london\n",
      "Processing Record 12 of Set 2 : ponta delgada\n",
      "Processing Record 13 of Set 2 : mbuji-mayi\n",
      "Processing Record 14 of Set 2 : upernavik\n",
      "Processing Record 15 of Set 2 : gondar\n",
      "Processing Record 16 of Set 2 : busselton\n",
      "Processing Record 17 of Set 2 : haines junction\n",
      "Processing Record 18 of Set 2 : eyl\n",
      "Processing Record 19 of Set 2 : yambio\n",
      "Processing Record 20 of Set 2 : tasiilaq\n",
      "Processing Record 21 of Set 2 : hobart\n",
      "Processing Record 22 of Set 2 : bentiu\n",
      "Processing Record 23 of Set 2 : pontianak\n",
      "Processing Record 24 of Set 2 : itarema\n",
      "City not found. Skipping...\n",
      "Processing Record 25 of Set 2 : hithadhoo\n",
      "Processing Record 26 of Set 2 : matara\n",
      "Processing Record 27 of Set 2 : ushuaia\n",
      "Processing Record 28 of Set 2 : yakima\n",
      "Processing Record 29 of Set 2 : chuy\n",
      "Processing Record 30 of Set 2 : mayahi\n",
      "Processing Record 31 of Set 2 : hamilton\n",
      "Processing Record 32 of Set 2 : araouane\n",
      "Processing Record 33 of Set 2 : carnarvon\n",
      "Processing Record 34 of Set 2 : tamandare\n",
      "Processing Record 35 of Set 2 : kapaa\n",
      "Processing Record 36 of Set 2 : provideniya\n",
      "Processing Record 37 of Set 2 : kenai\n",
      "Processing Record 38 of Set 2 : altay\n",
      "City not found. Skipping...\n",
      "Processing Record 39 of Set 2 : cayenne\n",
      "Processing Record 40 of Set 2 : tiksi\n",
      "Processing Record 41 of Set 2 : bambanglipuro\n",
      "City not found. Skipping...\n",
      "Processing Record 42 of Set 2 : touba\n",
      "Processing Record 43 of Set 2 : tokat\n",
      "Processing Record 44 of Set 2 : saint-philippe\n",
      "Processing Record 45 of Set 2 : viedma\n",
      "Processing Record 46 of Set 2 : kavieng\n",
      "Processing Record 47 of Set 2 : nanortalik\n",
      "Processing Record 48 of Set 2 : nara\n",
      "Processing Record 49 of Set 2 : gisborne\n",
      "Processing Record 50 of Set 2 : lompoc\n",
      "Processing Record 0 of Set 3 : acapulco\n",
      "City not found. Skipping...\n",
      "Processing Record 1 of Set 3 : christchurch\n",
      "Processing Record 2 of Set 3 : riyadh\n",
      "Processing Record 3 of Set 3 : severo-kurilsk\n",
      "Processing Record 4 of Set 3 : broome\n",
      "Processing Record 5 of Set 3 : ozark\n",
      "Processing Record 6 of Set 3 : celestun\n",
      "Processing Record 7 of Set 3 : lorengau\n",
      "Processing Record 8 of Set 3 : asfi\n",
      "Processing Record 9 of Set 3 : lasa\n",
      "City not found. Skipping...\n",
      "Processing Record 10 of Set 3 : esil\n",
      "Processing Record 11 of Set 3 : meulaboh\n",
      "Processing Record 12 of Set 3 : samarai\n",
      "Processing Record 13 of Set 3 : acajutla\n",
      "Processing Record 14 of Set 3 : college\n",
      "Processing Record 15 of Set 3 : husavik\n",
      "Processing Record 16 of Set 3 : bilma\n",
      "City not found. Skipping...\n",
      "Processing Record 17 of Set 3 : tuatapere\n",
      "Processing Record 18 of Set 3 : bambous virieux\n",
      "Processing Record 19 of Set 3 : mercedes\n",
      "Processing Record 20 of Set 3 : navolato\n",
      "Processing Record 21 of Set 3 : victoria\n",
      "Processing Record 22 of Set 3 : morant bay\n",
      "Processing Record 23 of Set 3 : ishim\n",
      "Processing Record 24 of Set 3 : siniscola\n",
      "Processing Record 25 of Set 3 : aklavik\n",
      "Processing Record 26 of Set 3 : sao jose da coroa grande\n",
      "Processing Record 27 of Set 3 : bredasdorp\n",
      "Processing Record 28 of Set 3 : portland\n",
      "Processing Record 29 of Set 3 : kita\n",
      "Processing Record 30 of Set 3 : san cristobal\n",
      "Processing Record 31 of Set 3 : torbay\n",
      "Processing Record 32 of Set 3 : victor harbor\n",
      "Processing Record 33 of Set 3 : berlevag\n",
      "Processing Record 34 of Set 3 : avarua\n",
      "Processing Record 35 of Set 3 : omboue\n",
      "Processing Record 36 of Set 3 : kruisfontein\n",
      "Processing Record 37 of Set 3 : san vicente\n",
      "Processing Record 38 of Set 3 : san quintin\n",
      "Processing Record 39 of Set 3 : kysyl-syr\n",
      "Processing Record 40 of Set 3 : port elizabeth\n",
      "Processing Record 41 of Set 3 : sambava\n",
      "Processing Record 42 of Set 3 : taoudenni\n",
      "Processing Record 43 of Set 3 : peniche\n",
      "Processing Record 44 of Set 3 : hasaki\n",
      "Processing Record 45 of Set 3 : airai\n",
      "Processing Record 46 of Set 3 : ishinomaki\n",
      "Processing Record 47 of Set 3 : sukumo\n",
      "Processing Record 48 of Set 3 : naze\n",
      "Processing Record 49 of Set 3 : pacific grove\n",
      "City not found. Skipping...\n",
      "Processing Record 50 of Set 3 : pafos\n",
      "Processing Record 0 of Set 4 : inyonga\n",
      "Processing Record 1 of Set 4 : chokurdakh\n",
      "Processing Record 2 of Set 4 : treinta y tres\n",
      "Processing Record 3 of Set 4 : ugoofaaru\n",
      "Processing Record 4 of Set 4 : flinders\n",
      "Processing Record 5 of Set 4 : balabac\n",
      "Processing Record 6 of Set 4 : vao\n",
      "Processing Record 7 of Set 4 : filadelfia\n",
      "Processing Record 8 of Set 4 : itaituba\n",
      "Processing Record 9 of Set 4 : ilulissat\n",
      "Processing Record 10 of Set 4 : nikolskoye\n",
      "Processing Record 11 of Set 4 : port hawkesbury\n",
      "Processing Record 12 of Set 4 : fairbanks\n",
      "Processing Record 13 of Set 4 : guerrero negro\n",
      "Processing Record 14 of Set 4 : darab\n",
      "Processing Record 15 of Set 4 : murud\n",
      "Processing Record 16 of Set 4 : puerto ayora\n",
      "City not found. Skipping...\n",
      "Processing Record 17 of Set 4 : vardo\n",
      "Processing Record 18 of Set 4 : kampong thum\n",
      "Processing Record 19 of Set 4 : saskylakh\n",
      "Processing Record 20 of Set 4 : dabat\n",
      "Processing Record 21 of Set 4 : zorritos\n",
      "Processing Record 22 of Set 4 : klobuck\n",
      "Processing Record 23 of Set 4 : trapani\n",
      "Processing Record 24 of Set 4 : georgetown\n",
      "Processing Record 25 of Set 4 : bilibino\n",
      "Processing Record 26 of Set 4 : belyy yar\n",
      "Processing Record 27 of Set 4 : tumut\n",
      "Processing Record 28 of Set 4 : joshimath\n",
      "Processing Record 29 of Set 4 : jamestown\n",
      "Processing Record 30 of Set 4 : codrington\n",
      "Processing Record 31 of Set 4 : gambo\n",
      "Processing Record 32 of Set 4 : idaho falls\n",
      "Processing Record 33 of Set 4 : tibati\n",
      "Processing Record 34 of Set 4 : kasangulu\n",
      "Processing Record 35 of Set 4 : bemidji\n",
      "Processing Record 36 of Set 4 : dzhebariki-khaya\n"
     ]
    },
    {
     "name": "stdout",
     "output_type": "stream",
     "text": [
      "Processing Record 37 of Set 4 : aviles\n",
      "Processing Record 38 of Set 4 : axim\n",
      "Processing Record 39 of Set 4 : muros\n",
      "Processing Record 40 of Set 4 : dikson\n",
      "Processing Record 41 of Set 4 : vagamo\n",
      "Processing Record 42 of Set 4 : kodiak\n",
      "City not found. Skipping...\n",
      "Processing Record 43 of Set 4 : cam ranh\n",
      "Processing Record 44 of Set 4 : townsville\n",
      "City not found. Skipping...\n",
      "Processing Record 45 of Set 4 : hofn\n",
      "Processing Record 46 of Set 4 : boa vista\n",
      "Processing Record 47 of Set 4 : saint-georges\n",
      "Processing Record 48 of Set 4 : yar-sale\n",
      "Processing Record 49 of Set 4 : ayan\n",
      "Processing Record 50 of Set 4 : casino\n",
      "Processing Record 0 of Set 5 : geraldton\n",
      "Processing Record 1 of Set 5 : zhigansk\n",
      "Processing Record 2 of Set 5 : chernivtsi\n",
      "Processing Record 3 of Set 5 : lata\n",
      "Processing Record 4 of Set 5 : sitka\n",
      "City not found. Skipping...\n",
      "Processing Record 5 of Set 5 : leningradskiy\n",
      "Processing Record 6 of Set 5 : wawa\n",
      "Processing Record 7 of Set 5 : thompson\n",
      "Processing Record 8 of Set 5 : shingu\n",
      "Processing Record 9 of Set 5 : opuwo\n",
      "City not found. Skipping...\n",
      "Processing Record 10 of Set 5 : kilindoni\n",
      "Processing Record 11 of Set 5 : namatanai\n",
      "Processing Record 12 of Set 5 : marsa matruh\n",
      "Processing Record 13 of Set 5 : caxias\n",
      "Processing Record 14 of Set 5 : goderich\n",
      "Processing Record 15 of Set 5 : isangel\n",
      "Processing Record 16 of Set 5 : coquimbo\n",
      "Processing Record 17 of Set 5 : kenitra\n",
      "Processing Record 18 of Set 5 : hambantota\n",
      "Processing Record 19 of Set 5 : banepa\n",
      "Processing Record 20 of Set 5 : obo\n",
      "Processing Record 21 of Set 5 : cherskiy\n",
      "Processing Record 22 of Set 5 : labrea\n",
      "City not found. Skipping...\n",
      "Processing Record 23 of Set 5 : arraial do cabo\n",
      "Processing Record 24 of Set 5 : byron bay\n",
      "Processing Record 25 of Set 5 : nome\n",
      "City not found. Skipping...\n",
      "Processing Record 26 of Set 5 : waipawa\n",
      "Processing Record 27 of Set 5 : syracuse\n",
      "Processing Record 28 of Set 5 : llanes\n",
      "Processing Record 29 of Set 5 : puerto ayacucho\n",
      "Processing Record 30 of Set 5 : souillac\n",
      "Processing Record 31 of Set 5 : hokitika\n",
      "Processing Record 32 of Set 5 : eston\n",
      "Processing Record 33 of Set 5 : haghartsin\n",
      "Processing Record 34 of Set 5 : lebu\n",
      "Processing Record 35 of Set 5 : cape town\n",
      "Processing Record 36 of Set 5 : yellowknife\n",
      "Processing Record 37 of Set 5 : palembang\n",
      "Processing Record 38 of Set 5 : pokhara\n",
      "Processing Record 39 of Set 5 : havelock\n",
      "Processing Record 40 of Set 5 : vestmannaeyjar\n",
      "Processing Record 41 of Set 5 : coffs harbour\n",
      "Processing Record 42 of Set 5 : touros\n",
      "Processing Record 43 of Set 5 : hirara\n",
      "Processing Record 44 of Set 5 : srednekolymsk\n",
      "Processing Record 45 of Set 5 : mahebourg\n",
      "Processing Record 46 of Set 5 : dingle\n",
      "Processing Record 47 of Set 5 : bontang\n",
      "Processing Record 48 of Set 5 : nampula\n",
      "Processing Record 49 of Set 5 : tirumullaivasal\n",
      "Processing Record 50 of Set 5 : mahanje\n",
      "Processing Record 0 of Set 6 : rajanpur\n",
      "City not found. Skipping...\n",
      "Processing Record 1 of Set 6 : beisfjord\n",
      "Processing Record 2 of Set 6 : kingsville\n",
      "Processing Record 3 of Set 6 : ada\n",
      "Processing Record 4 of Set 6 : sorland\n",
      "City not found. Skipping...\n",
      "Processing Record 5 of Set 6 : mahibadhoo\n",
      "City not found. Skipping...\n",
      "Processing Record 6 of Set 6 : cidreira\n",
      "Processing Record 7 of Set 6 : workington\n",
      "Processing Record 8 of Set 6 : sobolevo\n",
      "Processing Record 9 of Set 6 : krasnoselkup\n",
      "Processing Record 10 of Set 6 : sulangan\n",
      "Processing Record 11 of Set 6 : talnakh\n",
      "Processing Record 12 of Set 6 : abu samrah\n",
      "Processing Record 13 of Set 6 : linqu\n",
      "Processing Record 14 of Set 6 : abu dhabi\n",
      "Processing Record 15 of Set 6 : vila franca do campo\n",
      "City not found. Skipping...\n",
      "City not found. Skipping...\n",
      "Processing Record 16 of Set 6 : ponta do sol\n",
      "Processing Record 17 of Set 6 : danielskuil\n",
      "Processing Record 18 of Set 6 : adrar\n",
      "Processing Record 19 of Set 6 : alice springs\n",
      "Processing Record 20 of Set 6 : la ronge\n",
      "City not found. Skipping...\n",
      "Processing Record 21 of Set 6 : sakakah\n",
      "Processing Record 22 of Set 6 : luderitz\n",
      "Processing Record 23 of Set 6 : halifax\n",
      "Processing Record 24 of Set 6 : lima\n",
      "City not found. Skipping...\n",
      "Processing Record 25 of Set 6 : viransehir\n",
      "Processing Record 26 of Set 6 : chumikan\n",
      "Processing Record 27 of Set 6 : gazalkent\n",
      "Processing Record 28 of Set 6 : dunedin\n",
      "Processing Record 29 of Set 6 : kurumkan\n",
      "Processing Record 30 of Set 6 : ilheus\n",
      "Processing Record 31 of Set 6 : ambilobe\n",
      "Processing Record 32 of Set 6 : mount isa\n",
      "Processing Record 33 of Set 6 : igarka\n",
      "Processing Record 34 of Set 6 : saldanha\n",
      "City not found. Skipping...\n",
      "Processing Record 35 of Set 6 : matagami\n",
      "Processing Record 36 of Set 6 : avera\n",
      "City not found. Skipping...\n",
      "City not found. Skipping...\n",
      "Processing Record 37 of Set 6 : kungurtug\n",
      "Processing Record 38 of Set 6 : perivolion\n",
      "Processing Record 39 of Set 6 : bandarbeyla\n",
      "Processing Record 40 of Set 6 : ust-tsilma\n",
      "Processing Record 41 of Set 6 : novomikhaylovskiy\n",
      "City not found. Skipping...\n",
      "Processing Record 42 of Set 6 : yulara\n",
      "Processing Record 43 of Set 6 : fortuna\n",
      "Processing Record 44 of Set 6 : salalah\n",
      "Processing Record 45 of Set 6 : skjervoy\n",
      "Processing Record 46 of Set 6 : ascension\n",
      "Processing Record 47 of Set 6 : kearney\n",
      "Processing Record 48 of Set 6 : rayong\n",
      "Processing Record 49 of Set 6 : kathu\n",
      "Processing Record 50 of Set 6 : quesnel\n",
      "Processing Record 0 of Set 7 : doha\n",
      "Processing Record 1 of Set 7 : kitimat\n",
      "Processing Record 2 of Set 7 : russell\n",
      "Processing Record 3 of Set 7 : port hardy\n",
      "Processing Record 4 of Set 7 : pangnirtung\n",
      "Processing Record 5 of Set 7 : poum\n",
      "City not found. Skipping...\n",
      "Processing Record 6 of Set 7 : juan lacaze\n",
      "Processing Record 7 of Set 7 : kondagaon\n",
      "Processing Record 8 of Set 7 : fortuna foothills\n",
      "Processing Record 9 of Set 7 : karratha\n",
      "Processing Record 10 of Set 7 : nuuk\n",
      "Processing Record 11 of Set 7 : cap malheureux\n",
      "Processing Record 12 of Set 7 : nosy varika\n",
      "Processing Record 13 of Set 7 : hualmay\n",
      "Processing Record 14 of Set 7 : tautira\n",
      "Processing Record 15 of Set 7 : candelaria\n",
      "Processing Record 16 of Set 7 : san jeronimo\n",
      "Processing Record 17 of Set 7 : slave lake\n",
      "Processing Record 18 of Set 7 : moerai\n",
      "Processing Record 19 of Set 7 : thap than\n",
      "Processing Record 20 of Set 7 : defiance\n",
      "Processing Record 21 of Set 7 : ushtobe\n",
      "Processing Record 22 of Set 7 : burns lake\n",
      "Processing Record 23 of Set 7 : paamiut\n",
      "Processing Record 24 of Set 7 : manadhoo\n",
      "Processing Record 25 of Set 7 : santa helena\n",
      "Processing Record 26 of Set 7 : la curva\n",
      "Processing Record 27 of Set 7 : kambove\n",
      "Processing Record 28 of Set 7 : mlawa\n",
      "Processing Record 29 of Set 7 : faya\n",
      "Processing Record 30 of Set 7 : sao gabriel da cachoeira\n",
      "Processing Record 31 of Set 7 : port lincoln\n",
      "Processing Record 32 of Set 7 : gazojak\n",
      "Processing Record 33 of Set 7 : padang\n",
      "Processing Record 34 of Set 7 : mizan teferi\n",
      "Processing Record 35 of Set 7 : cabedelo\n",
      "Processing Record 36 of Set 7 : cozumel\n",
      "Processing Record 37 of Set 7 : semnan\n",
      "Processing Record 38 of Set 7 : mayo\n",
      "Processing Record 39 of Set 7 : harper\n",
      "Processing Record 40 of Set 7 : palu\n",
      "Processing Record 41 of Set 7 : ruteng\n",
      "City not found. Skipping...\n",
      "Processing Record 42 of Set 7 : wagar\n",
      "Processing Record 43 of Set 7 : ulefoss\n",
      "Processing Record 44 of Set 7 : kiama\n",
      "Processing Record 45 of Set 7 : narsaq\n",
      "City not found. Skipping...\n",
      "Processing Record 46 of Set 7 : houston\n",
      "Processing Record 47 of Set 7 : mendi\n",
      "Processing Record 48 of Set 7 : verkhnevilyuysk\n",
      "Processing Record 49 of Set 7 : innisfail\n",
      "Processing Record 50 of Set 7 : bacolod\n",
      "Processing Record 0 of Set 8 : susangerd\n",
      "Processing Record 1 of Set 8 : homer\n",
      "Processing Record 2 of Set 8 : esperance\n",
      "Processing Record 3 of Set 8 : puerto maldonado\n",
      "Processing Record 4 of Set 8 : loknya\n",
      "Processing Record 5 of Set 8 : palmer\n",
      "Processing Record 6 of Set 8 : moree\n",
      "Processing Record 7 of Set 8 : dong hoi\n",
      "Processing Record 8 of Set 8 : mandsaur\n",
      "Processing Record 9 of Set 8 : tezu\n",
      "Processing Record 10 of Set 8 : tarko-sale\n",
      "Processing Record 11 of Set 8 : requena\n",
      "Processing Record 12 of Set 8 : rujewa\n",
      "Processing Record 13 of Set 8 : nalut\n",
      "Processing Record 14 of Set 8 : goya\n",
      "Processing Record 15 of Set 8 : ryotsu\n",
      "Processing Record 16 of Set 8 : lerwick\n",
      "Processing Record 17 of Set 8 : santa maria\n",
      "Processing Record 18 of Set 8 : ulladulla\n",
      "Processing Record 19 of Set 8 : pisco\n"
     ]
    },
    {
     "name": "stdout",
     "output_type": "stream",
     "text": [
      "Processing Record 20 of Set 8 : talara\n",
      "Processing Record 21 of Set 8 : killybegs\n",
      "Processing Record 22 of Set 8 : xixiang\n",
      "Processing Record 23 of Set 8 : teguise\n",
      "Processing Record 24 of Set 8 : kidal\n",
      "City not found. Skipping...\n",
      "Processing Record 25 of Set 8 : bantou\n",
      "Processing Record 26 of Set 8 : bend\n",
      "Processing Record 27 of Set 8 : olinda\n",
      "Processing Record 28 of Set 8 : ferkessedougou\n",
      "Processing Record 29 of Set 8 : necochea\n",
      "Processing Record 30 of Set 8 : kilembe\n",
      "Processing Record 31 of Set 8 : rawson\n",
      "Processing Record 32 of Set 8 : tevaitoa\n",
      "Processing Record 33 of Set 8 : fort-shevchenko\n",
      "City not found. Skipping...\n",
      "Processing Record 34 of Set 8 : manakara\n",
      "City not found. Skipping...\n",
      "Processing Record 35 of Set 8 : camalu\n",
      "Processing Record 36 of Set 8 : isla vista\n",
      "Processing Record 37 of Set 8 : trojes\n",
      "Processing Record 38 of Set 8 : caravelas\n",
      "City not found. Skipping...\n",
      "Processing Record 39 of Set 8 : pedasi\n",
      "Processing Record 40 of Set 8 : salinopolis\n",
      "Processing Record 41 of Set 8 : brae\n",
      "Processing Record 42 of Set 8 : lalmohan\n",
      "Processing Record 43 of Set 8 : alofi\n",
      "Processing Record 44 of Set 8 : caraz\n",
      "Processing Record 45 of Set 8 : arman\n",
      "Processing Record 46 of Set 8 : kozuchow\n",
      "Processing Record 47 of Set 8 : whyalla\n",
      "Processing Record 48 of Set 8 : mogadishu\n",
      "Processing Record 49 of Set 8 : staryy urukh\n",
      "Processing Record 50 of Set 8 : uribia\n",
      "Processing Record 0 of Set 9 : kieta\n",
      "Processing Record 1 of Set 9 : katsuura\n",
      "Processing Record 2 of Set 9 : taltal\n",
      "Processing Record 3 of Set 9 : rio gallegos\n",
      "Processing Record 4 of Set 9 : beringovskiy\n",
      "Processing Record 5 of Set 9 : cockburn town\n",
      "Processing Record 6 of Set 9 : bila tserkva\n",
      "Processing Record 7 of Set 9 : norman wells\n",
      "Processing Record 8 of Set 9 : marshall\n",
      "Processing Record 9 of Set 9 : roma\n",
      "Processing Record 10 of Set 9 : sola\n",
      "Processing Record 11 of Set 9 : kavaratti\n",
      "Processing Record 12 of Set 9 : izhma\n",
      "Processing Record 13 of Set 9 : dandong\n",
      "Processing Record 14 of Set 9 : aldan\n",
      "Processing Record 15 of Set 9 : skibotn\n",
      "Processing Record 16 of Set 9 : bassano\n",
      "Processing Record 17 of Set 9 : sistranda\n",
      "Processing Record 18 of Set 9 : klaksvik\n",
      "Processing Record 19 of Set 9 : nizwa\n",
      "Processing Record 20 of Set 9 : yanam\n",
      "Processing Record 21 of Set 9 : ceres\n",
      "Processing Record 22 of Set 9 : bull savanna\n",
      "Processing Record 23 of Set 9 : sembakung\n",
      "Processing Record 24 of Set 9 : inirida\n",
      "Processing Record 25 of Set 9 : kandiaro\n",
      "Processing Record 26 of Set 9 : kendari\n",
      "Processing Record 27 of Set 9 : port augusta\n",
      "Processing Record 28 of Set 9 : macusani\n",
      "Processing Record 29 of Set 9 : nicoya\n",
      "Processing Record 30 of Set 9 : los llanos de aridane\n",
      "Processing Record 31 of Set 9 : asau\n",
      "Processing Record 32 of Set 9 : varzob\n",
      "Processing Record 33 of Set 9 : nantucket\n",
      "Processing Record 34 of Set 9 : wenling\n",
      "Processing Record 35 of Set 9 : wageningen\n",
      "Processing Record 36 of Set 9 : cha grande\n",
      "Processing Record 37 of Set 9 : sergeyevka\n",
      "Processing Record 38 of Set 9 : pochutla\n",
      "Processing Record 39 of Set 9 : praya\n",
      "Processing Record 40 of Set 9 : sarapulka\n",
      "Processing Record 41 of Set 9 : tromso\n",
      "Processing Record 42 of Set 9 : ankang\n",
      "Processing Record 43 of Set 9 : blind river\n",
      "Processing Record 44 of Set 9 : turochak\n",
      "Processing Record 45 of Set 9 : lotofaga\n",
      "Processing Record 46 of Set 9 : kerema\n",
      "Processing Record 47 of Set 9 : alyangula\n",
      "Processing Record 48 of Set 9 : tabligbo\n",
      "City not found. Skipping...\n",
      "Processing Record 49 of Set 9 : tommot\n",
      "City not found. Skipping...\n",
      "Processing Record 50 of Set 9 : green valley\n",
      "Processing Record 0 of Set 10 : tonantins\n",
      "Processing Record 1 of Set 10 : tawang\n",
      "Processing Record 2 of Set 10 : aswan\n",
      "Processing Record 3 of Set 10 : namibe\n",
      "Processing Record 4 of Set 10 : dogondoutchi\n",
      "Processing Record 5 of Set 10 : kaniama\n",
      "Processing Record 6 of Set 10 : boras\n",
      "Processing Record 7 of Set 10 : hoganas\n",
      "Processing Record 8 of Set 10 : alpharetta\n",
      "Processing Record 9 of Set 10 : nantong\n",
      "City not found. Skipping...\n",
      "Processing Record 10 of Set 10 : biryusinsk\n",
      "Processing Record 11 of Set 10 : razdolnoye\n",
      "Processing Record 12 of Set 10 : esmeraldas\n",
      "Processing Record 13 of Set 10 : adre\n",
      "Processing Record 14 of Set 10 : turukhansk\n",
      "Processing Record 15 of Set 10 : valdivia\n",
      "Processing Record 16 of Set 10 : san policarpo\n",
      "Processing Record 17 of Set 10 : hornepayne\n",
      "Processing Record 18 of Set 10 : sao filipe\n",
      "Processing Record 19 of Set 10 : miri\n",
      "City not found. Skipping...\n",
      "City not found. Skipping...\n",
      "Processing Record 20 of Set 10 : bulawayo\n",
      "Processing Record 21 of Set 10 : kem\n",
      "Processing Record 22 of Set 10 : villarrica\n",
      "Processing Record 23 of Set 10 : marawi\n",
      "Processing Record 24 of Set 10 : patiala\n",
      "Processing Record 25 of Set 10 : batagay\n",
      "Processing Record 26 of Set 10 : ferme-neuve\n",
      "Processing Record 27 of Set 10 : la orilla\n",
      "Processing Record 28 of Set 10 : quelimane\n",
      "Processing Record 29 of Set 10 : maniitsoq\n",
      "Processing Record 30 of Set 10 : novyye lyady\n",
      "Processing Record 31 of Set 10 : madras\n",
      "Processing Record 32 of Set 10 : san rafael del sur\n",
      "Processing Record 33 of Set 10 : sal rei\n",
      "Processing Record 34 of Set 10 : uvira\n",
      "City not found. Skipping...\n",
      "Processing Record 35 of Set 10 : north bend\n",
      "Processing Record 36 of Set 10 : krutinka\n",
      "Processing Record 37 of Set 10 : sibiti\n",
      "Processing Record 38 of Set 10 : tyukod\n",
      "Processing Record 39 of Set 10 : mount gambier\n",
      "Processing Record 40 of Set 10 : linxia\n",
      "Processing Record 41 of Set 10 : jardim\n",
      "Processing Record 42 of Set 10 : irtyshskiy\n",
      "Processing Record 43 of Set 10 : abaza\n",
      "Processing Record 44 of Set 10 : grand gaube\n",
      "Processing Record 45 of Set 10 : sirari\n",
      "Processing Record 46 of Set 10 : noumea\n",
      "Processing Record 47 of Set 10 : privas\n",
      "Processing Record 48 of Set 10 : angoche\n",
      "Processing Record 49 of Set 10 : preston\n",
      "Processing Record 50 of Set 10 : salvador\n",
      "Processing Record 0 of Set 11 : aloleng\n",
      "Processing Record 1 of Set 11 : sainte-thecle\n",
      "Processing Record 2 of Set 11 : port-gentil\n",
      "City not found. Skipping...\n",
      "Processing Record 3 of Set 11 : canutama\n",
      "Processing Record 4 of Set 11 : laguna\n",
      "Processing Record 5 of Set 11 : am timan\n",
      "Processing Record 6 of Set 11 : ambunti\n",
      "Processing Record 7 of Set 11 : borivka\n",
      "Processing Record 8 of Set 11 : kaitangata\n",
      "Processing Record 9 of Set 11 : kijang\n",
      "Processing Record 10 of Set 11 : glossop\n",
      "Processing Record 11 of Set 11 : villaviciosa\n",
      "Processing Record 12 of Set 11 : gori\n",
      "Processing Record 13 of Set 11 : calama\n",
      "Processing Record 14 of Set 11 : jizan\n",
      "Processing Record 15 of Set 11 : hua hin\n",
      "Processing Record 16 of Set 11 : winona\n",
      "Processing Record 17 of Set 11 : atambua\n",
      "Processing Record 18 of Set 11 : comodoro rivadavia\n",
      "Processing Record 19 of Set 11 : vaitape\n",
      "Processing Record 20 of Set 11 : poronaysk\n",
      "Processing Record 21 of Set 11 : pandan\n",
      "Processing Record 22 of Set 11 : raga\n",
      "Processing Record 23 of Set 11 : syava\n",
      "Processing Record 24 of Set 11 : maragogi\n",
      "Processing Record 25 of Set 11 : alcudia\n",
      "Processing Record 26 of Set 11 : bahia blanca\n",
      "Processing Record 27 of Set 11 : huilong\n",
      "Processing Record 28 of Set 11 : tugulym\n",
      "Processing Record 29 of Set 11 : pringsewu\n",
      "Processing Record 30 of Set 11 : maceio\n",
      "Processing Record 31 of Set 11 : aykhal\n",
      "Processing Record 32 of Set 11 : puerto escondido\n",
      "Processing Record 33 of Set 11 : linqiong\n",
      "Processing Record 34 of Set 11 : leh\n",
      "Processing Record 35 of Set 11 : biak\n",
      "Processing Record 36 of Set 11 : sur\n",
      "Processing Record 37 of Set 11 : tarpon springs\n",
      "Processing Record 38 of Set 11 : lagoa\n",
      "Processing Record 39 of Set 11 : price\n",
      "Processing Record 40 of Set 11 : hanmer springs\n",
      "Processing Record 41 of Set 11 : myitkyina\n",
      "City not found. Skipping...\n",
      "Processing Record 42 of Set 11 : nouakchott\n",
      "Processing Record 43 of Set 11 : richards bay\n",
      "Processing Record 44 of Set 11 : coracora\n",
      "Processing Record 45 of Set 11 : ust-nera\n",
      "Processing Record 46 of Set 11 : volta redonda\n",
      "Processing Record 47 of Set 11 : coihaique\n",
      "Processing Record 48 of Set 11 : cochrane\n",
      "Processing Record 49 of Set 11 : wajima\n",
      "Processing Record 50 of Set 11 : yabassi\n",
      "Processing Record 0 of Set 12 : trairi\n",
      "Processing Record 1 of Set 12 : george\n",
      "City not found. Skipping...\n",
      "Processing Record 2 of Set 12 : ibiuna\n",
      "Processing Record 3 of Set 12 : tynda\n",
      "Processing Record 4 of Set 12 : kursavka\n",
      "Processing Record 5 of Set 12 : vila\n"
     ]
    },
    {
     "name": "stdout",
     "output_type": "stream",
     "text": [
      "Processing Record 6 of Set 12 : clyde river\n",
      "Processing Record 7 of Set 12 : bonavista\n",
      "Processing Record 8 of Set 12 : mitsamiouli\n",
      "Processing Record 9 of Set 12 : tornio\n",
      "Processing Record 10 of Set 12 : gushi\n",
      "Processing Record 11 of Set 12 : ihlow\n",
      "-----------------------------\n",
      "Data Retrieval Complete\n",
      "-----------------------------\n"
     ]
    }
   ],
   "source": [
    "print(\"Beginning Data Retrieval \")\n",
    "print(\"-----------------------------\")\n",
    "\n",
    "base_url = \"http://api.openweathermap.org/data/2.5/weather?\"\n",
    "units = \"imperial\"\n",
    "query_url = f\"{base_url}appid={weather_api_key}&units={units}&q=\"\n",
    "\n",
    "\n",
    "# For each city name in cities list, do below things...\n",
    "for index, city in enumerate(cities, start = 1):\n",
    "    try:\n",
    "        response = requests.get(query_url + city).json()\n",
    "        city_name_list.append(response[\"name\"])\n",
    "        cloudiness_list.append(response[\"clouds\"][\"all\"])\n",
    "        country_list.append(response[\"sys\"][\"country\"])\n",
    "        date_list.append(response[\"dt\"])\n",
    "        humidity_list.append(response[\"main\"][\"humidity\"])\n",
    "        lat_list.append(response[\"coord\"][\"lat\"])\n",
    "        lng_list.append(response[\"coord\"][\"lon\"])\n",
    "        max_temp_list.append(response['main']['temp_max'])\n",
    "        wind_speed_list.append(response[\"wind\"][\"speed\"])\n",
    "        if index_counter > 49:\n",
    "            index_counter = 0\n",
    "            set_counter = set_counter + 1\n",
    "    \n",
    "        else:\n",
    "            index_counter = index_counter + 1\n",
    "            \n",
    "        print(f\"Processing Record {index_counter} of Set {set_counter} : {city}\") \n",
    "  \n",
    "    except(KeyError, IndexError):\n",
    "        print(\"City not found. Skipping...\")\n",
    "\n",
    "print(\"-----------------------------\")\n",
    "print(\"Data Retrieval Complete\")\n",
    "print(\"-----------------------------\")"
   ]
  },
  {
   "cell_type": "markdown",
   "metadata": {},
   "source": [
    "### Convert Raw Data to DataFrame\n",
    "* Export the city data into a .csv.\n",
    "* Display the DataFrame"
   ]
  },
  {
   "cell_type": "code",
   "execution_count": 143,
   "metadata": {},
   "outputs": [],
   "source": [
    " cities_df= pd.DataFrame({ \n",
    "                \"City\" : city_name_list,\n",
    "                \"Cloudiness\" : cloudiness_list,\n",
    "                \"Country\" : country_list,\n",
    "                \"Date\" : date_list,\n",
    "                \"Humidity\" : humidity_list,\n",
    "                \"Lat\" : lat_list,\n",
    "                \"Lng\" : lng_list,\n",
    "                \"Temp\" : max_temp_list,\n",
    "                \"Wind\" : wind_speed_list\n",
    "})"
   ]
  },
  {
   "cell_type": "code",
   "execution_count": 175,
   "metadata": {},
   "outputs": [],
   "source": [
    "cities_df.to_csv(\"output_data/cities.csv\", index = False)"
   ]
  },
  {
   "cell_type": "code",
   "execution_count": 144,
   "metadata": {},
   "outputs": [
    {
     "data": {
      "text/html": [
       "<div>\n",
       "<style scoped>\n",
       "    .dataframe tbody tr th:only-of-type {\n",
       "        vertical-align: middle;\n",
       "    }\n",
       "\n",
       "    .dataframe tbody tr th {\n",
       "        vertical-align: top;\n",
       "    }\n",
       "\n",
       "    .dataframe thead th {\n",
       "        text-align: right;\n",
       "    }\n",
       "</style>\n",
       "<table border=\"1\" class=\"dataframe\">\n",
       "  <thead>\n",
       "    <tr style=\"text-align: right;\">\n",
       "      <th></th>\n",
       "      <th>City</th>\n",
       "      <th>Cloudiness</th>\n",
       "      <th>Country</th>\n",
       "      <th>Date</th>\n",
       "      <th>Humidity</th>\n",
       "      <th>Lat</th>\n",
       "      <th>Lng</th>\n",
       "      <th>Temp</th>\n",
       "      <th>Wind</th>\n",
       "    </tr>\n",
       "  </thead>\n",
       "  <tbody>\n",
       "    <tr>\n",
       "      <th>0</th>\n",
       "      <td>Ribeira Grande</td>\n",
       "      <td>100</td>\n",
       "      <td>PT</td>\n",
       "      <td>1604974313</td>\n",
       "      <td>86</td>\n",
       "      <td>38.52</td>\n",
       "      <td>-28.70</td>\n",
       "      <td>64.24</td>\n",
       "      <td>12.62</td>\n",
       "    </tr>\n",
       "    <tr>\n",
       "      <th>1</th>\n",
       "      <td>Pevek</td>\n",
       "      <td>0</td>\n",
       "      <td>RU</td>\n",
       "      <td>1604974313</td>\n",
       "      <td>94</td>\n",
       "      <td>69.70</td>\n",
       "      <td>170.31</td>\n",
       "      <td>17.46</td>\n",
       "      <td>8.59</td>\n",
       "    </tr>\n",
       "    <tr>\n",
       "      <th>2</th>\n",
       "      <td>Luís Correia</td>\n",
       "      <td>3</td>\n",
       "      <td>BR</td>\n",
       "      <td>1604974335</td>\n",
       "      <td>76</td>\n",
       "      <td>-2.88</td>\n",
       "      <td>-41.67</td>\n",
       "      <td>81.16</td>\n",
       "      <td>14.05</td>\n",
       "    </tr>\n",
       "    <tr>\n",
       "      <th>3</th>\n",
       "      <td>Carutapera</td>\n",
       "      <td>98</td>\n",
       "      <td>BR</td>\n",
       "      <td>1604974335</td>\n",
       "      <td>87</td>\n",
       "      <td>-1.20</td>\n",
       "      <td>-46.02</td>\n",
       "      <td>78.46</td>\n",
       "      <td>4.85</td>\n",
       "    </tr>\n",
       "    <tr>\n",
       "      <th>4</th>\n",
       "      <td>Dakoro</td>\n",
       "      <td>36</td>\n",
       "      <td>NE</td>\n",
       "      <td>1604974335</td>\n",
       "      <td>27</td>\n",
       "      <td>14.51</td>\n",
       "      <td>6.76</td>\n",
       "      <td>70.90</td>\n",
       "      <td>9.01</td>\n",
       "    </tr>\n",
       "  </tbody>\n",
       "</table>\n",
       "</div>"
      ],
      "text/plain": [
       "             City  Cloudiness Country        Date  Humidity    Lat     Lng  \\\n",
       "0  Ribeira Grande         100      PT  1604974313        86  38.52  -28.70   \n",
       "1           Pevek           0      RU  1604974313        94  69.70  170.31   \n",
       "2    Luís Correia           3      BR  1604974335        76  -2.88  -41.67   \n",
       "3      Carutapera          98      BR  1604974335        87  -1.20  -46.02   \n",
       "4          Dakoro          36      NE  1604974335        27  14.51    6.76   \n",
       "\n",
       "    Temp   Wind  \n",
       "0  64.24  12.62  \n",
       "1  17.46   8.59  \n",
       "2  81.16  14.05  \n",
       "3  78.46   4.85  \n",
       "4  70.90   9.01  "
      ]
     },
     "execution_count": 144,
     "metadata": {},
     "output_type": "execute_result"
    }
   ],
   "source": [
    "cities_df.head() \n",
    "\n"
   ]
  },
  {
   "cell_type": "code",
   "execution_count": 145,
   "metadata": {},
   "outputs": [
    {
     "data": {
      "text/html": [
       "<div>\n",
       "<style scoped>\n",
       "    .dataframe tbody tr th:only-of-type {\n",
       "        vertical-align: middle;\n",
       "    }\n",
       "\n",
       "    .dataframe tbody tr th {\n",
       "        vertical-align: top;\n",
       "    }\n",
       "\n",
       "    .dataframe thead th {\n",
       "        text-align: right;\n",
       "    }\n",
       "</style>\n",
       "<table border=\"1\" class=\"dataframe\">\n",
       "  <thead>\n",
       "    <tr style=\"text-align: right;\">\n",
       "      <th></th>\n",
       "      <th>Cloudiness</th>\n",
       "      <th>Date</th>\n",
       "      <th>Humidity</th>\n",
       "      <th>Lat</th>\n",
       "      <th>Lng</th>\n",
       "      <th>Temp</th>\n",
       "      <th>Wind</th>\n",
       "    </tr>\n",
       "  </thead>\n",
       "  <tbody>\n",
       "    <tr>\n",
       "      <th>count</th>\n",
       "      <td>572.000000</td>\n",
       "      <td>5.720000e+02</td>\n",
       "      <td>572.000000</td>\n",
       "      <td>572.000000</td>\n",
       "      <td>572.000000</td>\n",
       "      <td>572.000000</td>\n",
       "      <td>572.000000</td>\n",
       "    </tr>\n",
       "    <tr>\n",
       "      <th>mean</th>\n",
       "      <td>47.410839</td>\n",
       "      <td>1.604975e+09</td>\n",
       "      <td>74.111888</td>\n",
       "      <td>18.474895</td>\n",
       "      <td>17.344441</td>\n",
       "      <td>57.998566</td>\n",
       "      <td>7.914073</td>\n",
       "    </tr>\n",
       "    <tr>\n",
       "      <th>std</th>\n",
       "      <td>40.180470</td>\n",
       "      <td>1.469775e+02</td>\n",
       "      <td>19.401051</td>\n",
       "      <td>33.141947</td>\n",
       "      <td>91.648931</td>\n",
       "      <td>22.908286</td>\n",
       "      <td>5.910920</td>\n",
       "    </tr>\n",
       "    <tr>\n",
       "      <th>min</th>\n",
       "      <td>0.000000</td>\n",
       "      <td>1.604974e+09</td>\n",
       "      <td>7.000000</td>\n",
       "      <td>-54.800000</td>\n",
       "      <td>-175.200000</td>\n",
       "      <td>-23.800000</td>\n",
       "      <td>0.130000</td>\n",
       "    </tr>\n",
       "    <tr>\n",
       "      <th>25%</th>\n",
       "      <td>1.000000</td>\n",
       "      <td>1.604974e+09</td>\n",
       "      <td>63.000000</td>\n",
       "      <td>-8.067500</td>\n",
       "      <td>-64.875000</td>\n",
       "      <td>44.532500</td>\n",
       "      <td>3.360000</td>\n",
       "    </tr>\n",
       "    <tr>\n",
       "      <th>50%</th>\n",
       "      <td>40.000000</td>\n",
       "      <td>1.604975e+09</td>\n",
       "      <td>78.000000</td>\n",
       "      <td>20.880000</td>\n",
       "      <td>20.275000</td>\n",
       "      <td>62.645000</td>\n",
       "      <td>6.865000</td>\n",
       "    </tr>\n",
       "    <tr>\n",
       "      <th>75%</th>\n",
       "      <td>90.000000</td>\n",
       "      <td>1.604975e+09</td>\n",
       "      <td>88.000000</td>\n",
       "      <td>44.597500</td>\n",
       "      <td>98.720000</td>\n",
       "      <td>75.930000</td>\n",
       "      <td>10.495000</td>\n",
       "    </tr>\n",
       "    <tr>\n",
       "      <th>max</th>\n",
       "      <td>100.000000</td>\n",
       "      <td>1.604975e+09</td>\n",
       "      <td>100.000000</td>\n",
       "      <td>78.220000</td>\n",
       "      <td>179.320000</td>\n",
       "      <td>102.200000</td>\n",
       "      <td>40.260000</td>\n",
       "    </tr>\n",
       "  </tbody>\n",
       "</table>\n",
       "</div>"
      ],
      "text/plain": [
       "       Cloudiness          Date    Humidity         Lat         Lng  \\\n",
       "count  572.000000  5.720000e+02  572.000000  572.000000  572.000000   \n",
       "mean    47.410839  1.604975e+09   74.111888   18.474895   17.344441   \n",
       "std     40.180470  1.469775e+02   19.401051   33.141947   91.648931   \n",
       "min      0.000000  1.604974e+09    7.000000  -54.800000 -175.200000   \n",
       "25%      1.000000  1.604974e+09   63.000000   -8.067500  -64.875000   \n",
       "50%     40.000000  1.604975e+09   78.000000   20.880000   20.275000   \n",
       "75%     90.000000  1.604975e+09   88.000000   44.597500   98.720000   \n",
       "max    100.000000  1.604975e+09  100.000000   78.220000  179.320000   \n",
       "\n",
       "             Temp        Wind  \n",
       "count  572.000000  572.000000  \n",
       "mean    57.998566    7.914073  \n",
       "std     22.908286    5.910920  \n",
       "min    -23.800000    0.130000  \n",
       "25%     44.532500    3.360000  \n",
       "50%     62.645000    6.865000  \n",
       "75%     75.930000   10.495000  \n",
       "max    102.200000   40.260000  "
      ]
     },
     "execution_count": 145,
     "metadata": {},
     "output_type": "execute_result"
    }
   ],
   "source": [
    "cities_df.describe()"
   ]
  },
  {
   "cell_type": "markdown",
   "metadata": {},
   "source": [
    "## Inspect the data and remove the cities where the humidity > 100%.\n",
    "----\n",
    "Skip this step if there are no cities that have humidity > 100%. "
   ]
  },
  {
   "cell_type": "code",
   "execution_count": 146,
   "metadata": {},
   "outputs": [],
   "source": [
    "#  Get the indices of cities that have humidity over 100%.\n",
    "cities_low_humidity = cities_df[cities_df.Humidity > 100].index \n"
   ]
  },
  {
   "cell_type": "code",
   "execution_count": 147,
   "metadata": {},
   "outputs": [
    {
     "data": {
      "text/html": [
       "<div>\n",
       "<style scoped>\n",
       "    .dataframe tbody tr th:only-of-type {\n",
       "        vertical-align: middle;\n",
       "    }\n",
       "\n",
       "    .dataframe tbody tr th {\n",
       "        vertical-align: top;\n",
       "    }\n",
       "\n",
       "    .dataframe thead th {\n",
       "        text-align: right;\n",
       "    }\n",
       "</style>\n",
       "<table border=\"1\" class=\"dataframe\">\n",
       "  <thead>\n",
       "    <tr style=\"text-align: right;\">\n",
       "      <th></th>\n",
       "      <th>City</th>\n",
       "      <th>Cloudiness</th>\n",
       "      <th>Country</th>\n",
       "      <th>Date</th>\n",
       "      <th>Humidity</th>\n",
       "      <th>Lat</th>\n",
       "      <th>Lng</th>\n",
       "      <th>Temp</th>\n",
       "      <th>Wind</th>\n",
       "    </tr>\n",
       "  </thead>\n",
       "  <tbody>\n",
       "    <tr>\n",
       "      <th>0</th>\n",
       "      <td>Ribeira Grande</td>\n",
       "      <td>100</td>\n",
       "      <td>PT</td>\n",
       "      <td>1604974313</td>\n",
       "      <td>86</td>\n",
       "      <td>38.52</td>\n",
       "      <td>-28.70</td>\n",
       "      <td>64.24</td>\n",
       "      <td>12.62</td>\n",
       "    </tr>\n",
       "    <tr>\n",
       "      <th>1</th>\n",
       "      <td>Pevek</td>\n",
       "      <td>0</td>\n",
       "      <td>RU</td>\n",
       "      <td>1604974313</td>\n",
       "      <td>94</td>\n",
       "      <td>69.70</td>\n",
       "      <td>170.31</td>\n",
       "      <td>17.46</td>\n",
       "      <td>8.59</td>\n",
       "    </tr>\n",
       "    <tr>\n",
       "      <th>2</th>\n",
       "      <td>Luís Correia</td>\n",
       "      <td>3</td>\n",
       "      <td>BR</td>\n",
       "      <td>1604974335</td>\n",
       "      <td>76</td>\n",
       "      <td>-2.88</td>\n",
       "      <td>-41.67</td>\n",
       "      <td>81.16</td>\n",
       "      <td>14.05</td>\n",
       "    </tr>\n",
       "    <tr>\n",
       "      <th>3</th>\n",
       "      <td>Carutapera</td>\n",
       "      <td>98</td>\n",
       "      <td>BR</td>\n",
       "      <td>1604974335</td>\n",
       "      <td>87</td>\n",
       "      <td>-1.20</td>\n",
       "      <td>-46.02</td>\n",
       "      <td>78.46</td>\n",
       "      <td>4.85</td>\n",
       "    </tr>\n",
       "    <tr>\n",
       "      <th>4</th>\n",
       "      <td>Dakoro</td>\n",
       "      <td>36</td>\n",
       "      <td>NE</td>\n",
       "      <td>1604974335</td>\n",
       "      <td>27</td>\n",
       "      <td>14.51</td>\n",
       "      <td>6.76</td>\n",
       "      <td>70.90</td>\n",
       "      <td>9.01</td>\n",
       "    </tr>\n",
       "  </tbody>\n",
       "</table>\n",
       "</div>"
      ],
      "text/plain": [
       "             City  Cloudiness Country        Date  Humidity    Lat     Lng  \\\n",
       "0  Ribeira Grande         100      PT  1604974313        86  38.52  -28.70   \n",
       "1           Pevek           0      RU  1604974313        94  69.70  170.31   \n",
       "2    Luís Correia           3      BR  1604974335        76  -2.88  -41.67   \n",
       "3      Carutapera          98      BR  1604974335        87  -1.20  -46.02   \n",
       "4          Dakoro          36      NE  1604974335        27  14.51    6.76   \n",
       "\n",
       "    Temp   Wind  \n",
       "0  64.24  12.62  \n",
       "1  17.46   8.59  \n",
       "2  81.16  14.05  \n",
       "3  78.46   4.85  \n",
       "4  70.90   9.01  "
      ]
     },
     "execution_count": 147,
     "metadata": {},
     "output_type": "execute_result"
    }
   ],
   "source": [
    "# Make a new DataFrame equal to the city data to drop all humidity outliers by index.\n",
    "# Passing \"inplace=False\" will make a copy of the city_data DataFrame, which we call \"clean_city_data\".\n",
    "clean_city_data = cities_df.drop(cities_low_humidity, inplace=False)\n",
    "clean_city_data.head()"
   ]
  },
  {
   "cell_type": "markdown",
   "metadata": {},
   "source": [
    "## Plotting the Data\n",
    "* Use proper labeling of the plots using plot titles (including date of analysis) and axes labels.\n",
    "* Save the plotted figures as .pngs."
   ]
  },
  {
   "cell_type": "markdown",
   "metadata": {},
   "source": [
    "## Latitude vs. Temperature Plot"
   ]
  },
  {
   "cell_type": "code",
   "execution_count": 172,
   "metadata": {
    "scrolled": true
   },
   "outputs": [
    {
     "data": {
      "image/png": "[encoded data removed]",
      "text/plain": [
       "<Figure size 432x288 with 1 Axes>"
      ]
     },
     "metadata": {
      "needs_background": "light"
     },
     "output_type": "display_data"
    },
    {
     "data": {
      "text/plain": [
       "<Figure size 432x288 with 0 Axes>"
      ]
     },
     "metadata": {},
     "output_type": "display_data"
    }
   ],
   "source": [
    "x_values =clean_city_data['Temp']\n",
    "y_values =clean_city_data['Lat']\n",
    "plt.scatter(x_values,y_values)\n",
    "plt.title('Latitude vs. Temperature')\n",
    "plt.xlabel('Temp')\n",
    "plt.ylabel('Lat')\n",
    "plt.show()\n",
    "plt.savefig(f'output_data/''Latitude vs.Temp.png')\n",
    "plt.show()"
   ]
  },
  {
   "cell_type": "markdown",
   "metadata": {},
   "source": [
    "## Latitude vs. Humidity Plot"
   ]
  },
  {
   "cell_type": "code",
   "execution_count": 171,
   "metadata": {},
   "outputs": [
    {
     "data": {
      "image/png": "[encoded data removed]",
      "text/plain": [
       "<Figure size 432x288 with 1 Axes>"
      ]
     },
     "metadata": {
      "needs_background": "light"
     },
     "output_type": "display_data"
    },
    {
     "data": {
      "text/plain": [
       "<Figure size 432x288 with 0 Axes>"
      ]
     },
     "metadata": {},
     "output_type": "display_data"
    }
   ],
   "source": [
    "x_values =clean_city_data['Humidity']\n",
    "y_values =clean_city_data['Lat']\n",
    "plt.scatter(x_values,y_values)\n",
    "plt.title('Latitude vs. Humidity')\n",
    "plt.xlabel('Humidity')\n",
    "plt.ylabel('Lat')\n",
    "plt.show()\n",
    "plt.savefig(f'output_data/''Latitude vs.Humidity.png')\n",
    "plt.show()"
   ]
  },
  {
   "cell_type": "markdown",
   "metadata": {},
   "source": [
    "## Latitude vs. Cloudiness Plot"
   ]
  },
  {
   "cell_type": "code",
   "execution_count": 168,
   "metadata": {},
   "outputs": [
    {
     "data": {
      "image/png": "[encoded data removed]",
      "text/plain": [
       "<Figure size 432x288 with 1 Axes>"
      ]
     },
     "metadata": {
      "needs_background": "light"
     },
     "output_type": "display_data"
    }
   ],
   "source": [
    "x_values =clean_city_data['Cloudiness']\n",
    "y_values =clean_city_data['Lat']\n",
    "plt.scatter(x_values,y_values)\n",
    "plt.title('Latitude vs.Cloudiness')\n",
    "plt.xlabel('Cloudiness')\n",
    "plt.ylabel('Lat')\n",
    "plt.savefig(f'output_data/''Latitude vs.Cloudiness.png')\n",
    "plt.show()"
   ]
  },
  {
   "cell_type": "markdown",
   "metadata": {},
   "source": [
    "## Latitude vs. Wind Speed Plot"
   ]
  },
  {
   "cell_type": "code",
   "execution_count": 174,
   "metadata": {},
   "outputs": [
    {
     "data": {
      "image/png": "[encoded data removed]",
      "text/plain": [
       "<Figure size 432x288 with 1 Axes>"
      ]
     },
     "metadata": {
      "needs_background": "light"
     },
     "output_type": "display_data"
    },
    {
     "data": {
      "text/plain": [
       "<Figure size 432x288 with 0 Axes>"
      ]
     },
     "metadata": {},
     "output_type": "display_data"
    }
   ],
   "source": [
    "x_values =clean_city_data['Wind']\n",
    "y_values =clean_city_data['Lat']\n",
    "plt.scatter(x_values,y_values)\n",
    "plt.title('Latitude vs Wind')\n",
    "plt.xlabel('Wind')\n",
    "plt.ylabel('Lat')\n",
    "plt.show()\n",
    "plt.savefig(f'output_data/''Latitude vs.Wind.png')\n",
    "plt.show()"
   ]
  },
  {
   "cell_type": "markdown",
   "metadata": {},
   "source": [
    "## Linear Regression"
   ]
  },
  {
   "cell_type": "code",
   "execution_count": 152,
   "metadata": {},
   "outputs": [],
   "source": [
    "# Create Northern and Southern Hemisphere DataFrames\n",
    "northern_hemisphere = cities_df.loc[cities_df[\"Lat\"] >= 0]\n",
    "southern_hemisphere = cities_df.loc[cities_df[\"Lat\"] < 0]"
   ]
  },
  {
   "cell_type": "code",
   "execution_count": 153,
   "metadata": {},
   "outputs": [
    {
     "data": {
      "text/html": [
       "<div>\n",
       "<style scoped>\n",
       "    .dataframe tbody tr th:only-of-type {\n",
       "        vertical-align: middle;\n",
       "    }\n",
       "\n",
       "    .dataframe tbody tr th {\n",
       "        vertical-align: top;\n",
       "    }\n",
       "\n",
       "    .dataframe thead th {\n",
       "        text-align: right;\n",
       "    }\n",
       "</style>\n",
       "<table border=\"1\" class=\"dataframe\">\n",
       "  <thead>\n",
       "    <tr style=\"text-align: right;\">\n",
       "      <th></th>\n",
       "      <th>City</th>\n",
       "      <th>Cloudiness</th>\n",
       "      <th>Country</th>\n",
       "      <th>Date</th>\n",
       "      <th>Humidity</th>\n",
       "      <th>Lat</th>\n",
       "      <th>Lng</th>\n",
       "      <th>Temp</th>\n",
       "      <th>Wind</th>\n",
       "    </tr>\n",
       "  </thead>\n",
       "  <tbody>\n",
       "    <tr>\n",
       "      <th>0</th>\n",
       "      <td>Ribeira Grande</td>\n",
       "      <td>100</td>\n",
       "      <td>PT</td>\n",
       "      <td>1604974313</td>\n",
       "      <td>86</td>\n",
       "      <td>38.52</td>\n",
       "      <td>-28.70</td>\n",
       "      <td>64.24</td>\n",
       "      <td>12.62</td>\n",
       "    </tr>\n",
       "    <tr>\n",
       "      <th>1</th>\n",
       "      <td>Pevek</td>\n",
       "      <td>0</td>\n",
       "      <td>RU</td>\n",
       "      <td>1604974313</td>\n",
       "      <td>94</td>\n",
       "      <td>69.70</td>\n",
       "      <td>170.31</td>\n",
       "      <td>17.46</td>\n",
       "      <td>8.59</td>\n",
       "    </tr>\n",
       "    <tr>\n",
       "      <th>4</th>\n",
       "      <td>Dakoro</td>\n",
       "      <td>36</td>\n",
       "      <td>NE</td>\n",
       "      <td>1604974335</td>\n",
       "      <td>27</td>\n",
       "      <td>14.51</td>\n",
       "      <td>6.76</td>\n",
       "      <td>70.90</td>\n",
       "      <td>9.01</td>\n",
       "    </tr>\n",
       "    <tr>\n",
       "      <th>6</th>\n",
       "      <td>Cabo San Lucas</td>\n",
       "      <td>5</td>\n",
       "      <td>MX</td>\n",
       "      <td>1604974336</td>\n",
       "      <td>64</td>\n",
       "      <td>22.89</td>\n",
       "      <td>-109.91</td>\n",
       "      <td>77.00</td>\n",
       "      <td>10.29</td>\n",
       "    </tr>\n",
       "    <tr>\n",
       "      <th>8</th>\n",
       "      <td>Tuktoyaktuk</td>\n",
       "      <td>90</td>\n",
       "      <td>CA</td>\n",
       "      <td>1604974336</td>\n",
       "      <td>84</td>\n",
       "      <td>69.45</td>\n",
       "      <td>-133.04</td>\n",
       "      <td>-0.40</td>\n",
       "      <td>13.87</td>\n",
       "    </tr>\n",
       "  </tbody>\n",
       "</table>\n",
       "</div>"
      ],
      "text/plain": [
       "             City  Cloudiness Country        Date  Humidity    Lat     Lng  \\\n",
       "0  Ribeira Grande         100      PT  1604974313        86  38.52  -28.70   \n",
       "1           Pevek           0      RU  1604974313        94  69.70  170.31   \n",
       "4          Dakoro          36      NE  1604974335        27  14.51    6.76   \n",
       "6  Cabo San Lucas           5      MX  1604974336        64  22.89 -109.91   \n",
       "8     Tuktoyaktuk          90      CA  1604974336        84  69.45 -133.04   \n",
       "\n",
       "    Temp   Wind  \n",
       "0  64.24  12.62  \n",
       "1  17.46   8.59  \n",
       "4  70.90   9.01  \n",
       "6  77.00  10.29  \n",
       "8  -0.40  13.87  "
      ]
     },
     "execution_count": 153,
     "metadata": {},
     "output_type": "execute_result"
    }
   ],
   "source": [
    "northern_hemisphere.head()"
   ]
  },
  {
   "cell_type": "markdown",
   "metadata": {},
   "source": [
    "####  Northern Hemisphere - Max Temp vs. Latitude Linear Regression"
   ]
  },
  {
   "cell_type": "code",
   "execution_count": 154,
   "metadata": {},
   "outputs": [],
   "source": [
    "def linearRegression(x,y,title):\n",
    "    (slope,intercept,rvalue,pvalue,stderr)=linregress(x,y)\n",
    "    regress=x*slope+intercept\n",
    "    msg=f'Y = {round(slope,2)}X + {round(intercept,2)}'\n",
    "    plt.scatter(x,y,linewidths=1,edgecolor='black',label='Cities',alpha=1)\n",
    "    plt.plot(x,regress,'r')\n",
    "    plt.annotate(msg,(x.min(),y.min()),fontsize=15,color='red')\n",
    "    plt.title(f'Latitute Vs {title}')\n",
    "    plt.ylabel(title)\n",
    "    plt.xlabel('Latitude')\n",
    "    plt.savefigith(f'output_data/Lat_vs_{title}_w_Linear_regression.png')\n",
    "    plt.show()"
   ]
  },
  {
   "cell_type": "code",
   "execution_count": 156,
   "metadata": {},
   "outputs": [
    {
     "data": {
      "image/png": "[encoded data removed]",
      "text/plain": [
       "<Figure size 432x288 with 1 Axes>"
      ]
     },
     "metadata": {
      "needs_background": "light"
     },
     "output_type": "display_data"
    }
   ],
   "source": [
    "linearRegression(northern_hemisphere.Lat,northern_hemisphere.Temp,'Temp')"
   ]
  },
  {
   "cell_type": "markdown",
   "metadata": {},
   "source": [
    "####  Southern Hemisphere - Max Temp vs. Latitude Linear Regression"
   ]
  },
  {
   "cell_type": "code",
   "execution_count": 157,
   "metadata": {},
   "outputs": [
    {
     "data": {
      "image/png": "[encoded data removed]",
      "text/plain": [
       "<Figure size 432x288 with 1 Axes>"
      ]
     },
     "metadata": {
      "needs_background": "light"
     },
     "output_type": "display_data"
    }
   ],
   "source": [
    "linearRegression(southern_hemisphere.Lat,southern_hemisphere.Temp,'Temp')"
   ]
  },
  {
   "cell_type": "markdown",
   "metadata": {},
   "source": [
    "####  Northern Hemisphere - Humidity (%) vs. Latitude Linear Regression"
   ]
  },
  {
   "cell_type": "code",
   "execution_count": 158,
   "metadata": {
    "scrolled": true
   },
   "outputs": [
    {
     "data": {
      "image/png": "[encoded data removed]",
      "text/plain": [
       "<Figure size 432x288 with 1 Axes>"
      ]
     },
     "metadata": {
      "needs_background": "light"
     },
     "output_type": "display_data"
    }
   ],
   "source": [
    "linearRegression(northern_hemisphere.Lat,northern_hemisphere.Humidity,'Humidity')"
   ]
  },
  {
   "cell_type": "markdown",
   "metadata": {},
   "source": [
    "####  Southern Hemisphere - Humidity (%) vs. Latitude Linear Regression"
   ]
  },
  {
   "cell_type": "code",
   "execution_count": 159,
   "metadata": {},
   "outputs": [
    {
     "data": {
      "image/png": "[encoded data removed]",
      "text/plain": [
       "<Figure size 432x288 with 1 Axes>"
      ]
     },
     "metadata": {
      "needs_background": "light"
     },
     "output_type": "display_data"
    }
   ],
   "source": [
    "linearRegression(southern_hemisphere.Lat,southern_hemisphere.Humidity,'Humidity')"
   ]
  },
  {
   "cell_type": "markdown",
   "metadata": {},
   "source": [
    "####  Northern Hemisphere - Cloudiness (%) vs. Latitude Linear Regression"
   ]
  },
  {
   "cell_type": "code",
   "execution_count": 160,
   "metadata": {},
   "outputs": [
    {
     "data": {
      "image/png": "[encoded data removed]",
      "text/plain": [
       "<Figure size 432x288 with 1 Axes>"
      ]
     },
     "metadata": {
      "needs_background": "light"
     },
     "output_type": "display_data"
    }
   ],
   "source": [
    "linearRegression(northern_hemisphere.Lat,northern_hemisphere.Cloudiness,'Cloudiness')"
   ]
  },
  {
   "cell_type": "markdown",
   "metadata": {},
   "source": [
    "####  Southern Hemisphere - Cloudiness (%) vs. Latitude Linear Regression"
   ]
  },
  {
   "cell_type": "code",
   "execution_count": 161,
   "metadata": {},
   "outputs": [
    {
     "data": {
      "image/png": "[encoded data removed]",
      "text/plain": [
       "<Figure size 432x288 with 1 Axes>"
      ]
     },
     "metadata": {
      "needs_background": "light"
     },
     "output_type": "display_data"
    }
   ],
   "source": [
    "linearRegression(southern_hemisphere.Lat,southern_hemisphere.Cloudiness,'Cloudiness')"
   ]
  },
  {
   "cell_type": "markdown",
   "metadata": {},
   "source": [
    "####  Northern Hemisphere - Wind Speed (mph) vs. Latitude Linear Regression"
   ]
  },
  {
   "cell_type": "code",
   "execution_count": 162,
   "metadata": {},
   "outputs": [
    {
     "data": {
      "image/png": "[encoded data removed]",
      "text/plain": [
       "<Figure size 432x288 with 1 Axes>"
      ]
     },
     "metadata": {
      "needs_background": "light"
     },
     "output_type": "display_data"
    }
   ],
   "source": [
    "linearRegression(northern_hemisphere.Lat,northern_hemisphere.Wind,'Wind')"
   ]
  },
  {
   "cell_type": "markdown",
   "metadata": {},
   "source": [
    "####  Southern Hemisphere - Wind Speed (mph) vs. Latitude Linear Regression"
   ]
  },
  {
   "cell_type": "code",
   "execution_count": 163,
   "metadata": {},
   "outputs": [
    {
     "data": {
      "image/png": "[encoded data removed]",
      "text/plain": [
       "<Figure size 432x288 with 1 Axes>"
      ]
     },
     "metadata": {
      "needs_background": "light"
     },
     "output_type": "display_data"
    }
   ],
   "source": [
    "linearRegression(southern_hemisphere.Lat,southern_hemisphere.Wind,'Wind')"
   ]
  },
  {
   "cell_type": "code",
   "execution_count": null,
   "metadata": {},
   "outputs": [],
   "source": []
  }
 ],
 "metadata": {
  "anaconda-cloud": {},
  "kernel_info": {
   "name": "python3"
  },
  "kernelspec": {
   "display_name": "Python 3",
   "language": "python",
   "name": "python3"
  },
  "language_info": {
   "codemirror_mode": {
    "name": "ipython",
    "version": 3
   },
   "file_extension": ".py",
   "mimetype": "text/x-python",
   "name": "python",
   "nbconvert_exporter": "python",
   "pygments_lexer": "ipython3",
   "version": "3.8.3"
  },
  "latex_envs": {
   "LaTeX_envs_menu_present": true,
   "autoclose": false,
   "autocomplete": true,
   "bibliofile": "biblio.bib",
   "cite_by": "apalike",
   "current_citInitial": 1,
   "eqLabelWithNumbers": true,
   "eqNumInitial": 1,
   "hotkeys": {
    "equation": "Ctrl-E",
    "itemize": "Ctrl-I"
   },
   "labels_anchors": false,
   "latex_user_defs": false,
   "report_style_numbering": false,
   "user_envs_cfg": false
  },
  "nteract": {
   "version": "0.12.3"
  }
 },
 "nbformat": 4,
 "nbformat_minor": 2
}
